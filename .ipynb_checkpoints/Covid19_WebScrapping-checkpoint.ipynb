{
 "cells": [
  {
   "cell_type": "markdown",
   "metadata": {},
   "source": [
    "### Tipologia i cicle de vida de les dades\n",
    "\n",
    "# Práctica 1: Web Scraping.\n",
    "\n",
    "## Context. \n",
    "\n",
    "Ens trobem en un context de pandemia on les dades juguen un paper clau per tal de controlar la seva expansió. Existeixen un nombre molt gran de bases de dades on es recullen dades a diversos nivells al respecte. L'evolució de la pandema s'ha mesurat per ciutat, per estat, o per cada país; per hores, per dies, o per setmanes. En aquesta práctica de **web scraping** volem extreure les dades que provenen de la pàgina web [European Centre for Disease Prevention and Control](https://www.ecdc.europa.eu/), concretament de la situació de la pandemia covid-19 als últims dies a tot el món, taula que trobem en aquest [enllaç](https://www.ecdc.europa.eu/en/geographical-distribution-2019-ncov-cases). Després desem el resultat en un fitxer CSV. Aplicarem els coneixements adquirits en el bloc 2 teòric sobre *Web Scraping* fent servir el llenguatge de programació *python*.\n",
    "\n",
    "\n",
    "\n",
    "## Definir el títol pel dataset.\n",
    "\n",
    "## Descripció del dataset.\n",
    "\n",
    "## Representació gràfica.\n",
    "\n",
    "## Contingut.\n",
    "\n",
    "## Agraïments.\n",
    "\n",
    "## Inspiració.\n",
    "\n",
    "## Llincència."
   ]
  },
  {
   "cell_type": "code",
   "execution_count": null,
   "metadata": {},
   "outputs": [],
   "source": []
  }
 ],
 "metadata": {
  "kernelspec": {
   "display_name": "Python 3",
   "language": "python",
   "name": "python3"
  },
  "language_info": {
   "codemirror_mode": {
    "name": "ipython",
    "version": 3
   },
   "file_extension": ".py",
   "mimetype": "text/x-python",
   "name": "python",
   "nbconvert_exporter": "python",
   "pygments_lexer": "ipython3",
   "version": "3.8.5"
  }
 },
 "nbformat": 4,
 "nbformat_minor": 4
}
