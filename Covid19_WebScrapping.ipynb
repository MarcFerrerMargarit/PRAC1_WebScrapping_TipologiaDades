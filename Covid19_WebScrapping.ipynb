{
 "cells": [
  {
   "cell_type": "markdown",
   "metadata": {},
   "source": [
    "# Práctica 1: Web Scraping.\n",
    "\n",
    "## Context. \n",
    "\n",
    "Ens trobem en un context de pandemia on les dades juguen un paper clau per tal de controlar la seva expansió. Existeixen un nombre molt gran de bases de dades on es recullen dades a diversos nivells al respecte. L'evolució de la pandema s'ha mesurat per ciutat, per estat, o per cada país; per hores, per dies, o per setmanes. En les dades que volem analitzar a continuació hi trobarem el nombre de casos i el nombre de víctimes reportats a la WHO durant la darrera quinzena. En aquesta práctica de **web scraping** volem extreure les dades que provenen de la pàgina web [European Centre for Disease Prevention and Control](https://www.ecdc.europa.eu/), concretament de la situació de la pandemia covid-19 als últims dies a tot el món, taula que trobem en aquest [enllaç](https://www.ecdc.europa.eu/en/geographical-distribution-2019-ncov-cases). Després desem el resultat en un fitxer CSV. Aplicarem els coneixements adquirits en el bloc 2 teòric sobre *Web Scraping* fent servir el llenguatge de programació *python*.\n",
    "\n",
    "\n",
    "\n",
    "## Definir el títol pel dataset.\n",
    "\n",
    "Per aquest dataset hem decidit posar-li de títol covid_notification_world_cases_dataset. Així doncs el fitxer resultant de dades s'anomenarà covid_notification_world_cases_dataset.csv. \n",
    "\n",
    "## Descripció del dataset.\n",
    "\n",
    "Tal com hem definit amb el títol, el dataset conté la informació dels últims casos confirmats i morts de Covid-19 en les diferents regions i països del món notificats en els últims 14 dies. Aquestes dades es mostren per cada país de cada regió del món. El dataset a part de tots els països del món conté un camp extra anomenat 'Other' que conté les dades dels casos de transmissió Internacional de Japó. Les dades en aquest cas ja es troben preparades per la utilització. El dataset es guarda en un objecte de Python, DataFrame de la llibreria Pandas, per tal de poder realitzar les visualitzacions més tard i per tal de poder exportar el dataset en un CSV.\n",
    "\n",
    "## Representació gràfica.\n",
    "\n",
    "Per veure com és el dataset i la informació que conté crearem diverses representacions. Primer de tot mostrarem el contingut final del dataset obtingut després d'extreure la informació."
   ]
  },
  {
   "cell_type": "code",
   "execution_count": 1,
   "metadata": {
    "scrolled": true
   },
   "outputs": [
    {
     "name": "stdout",
     "output_type": "stream",
     "text": [
      "\n"
     ]
    },
    {
     "data": {
      "text/html": [
       "<div>\n",
       "<style scoped>\n",
       "    .dataframe tbody tr th:only-of-type {\n",
       "        vertical-align: middle;\n",
       "    }\n",
       "\n",
       "    .dataframe tbody tr th {\n",
       "        vertical-align: top;\n",
       "    }\n",
       "\n",
       "    .dataframe thead th {\n",
       "        text-align: right;\n",
       "    }\n",
       "</style>\n",
       "<table border=\"1\" class=\"dataframe\">\n",
       "  <thead>\n",
       "    <tr style=\"text-align: right;\">\n",
       "      <th></th>\n",
       "      <th>Region</th>\n",
       "      <th>Country</th>\n",
       "      <th>Sum of Cases</th>\n",
       "      <th>Sum of Deaths</th>\n",
       "      <th>Confirmed cases during 14-days period</th>\n",
       "    </tr>\n",
       "  </thead>\n",
       "  <tbody>\n",
       "    <tr>\n",
       "      <th>0</th>\n",
       "      <td>Africa</td>\n",
       "      <td>Algeria</td>\n",
       "      <td>116946</td>\n",
       "      <td>3084</td>\n",
       "      <td>1681</td>\n",
       "    </tr>\n",
       "    <tr>\n",
       "      <th>1</th>\n",
       "      <td>Africa</td>\n",
       "      <td>Angola</td>\n",
       "      <td>22063</td>\n",
       "      <td>533</td>\n",
       "      <td>683</td>\n",
       "    </tr>\n",
       "    <tr>\n",
       "      <th>2</th>\n",
       "      <td>Africa</td>\n",
       "      <td>Benin</td>\n",
       "      <td>7100</td>\n",
       "      <td>90</td>\n",
       "      <td>599</td>\n",
       "    </tr>\n",
       "    <tr>\n",
       "      <th>3</th>\n",
       "      <td>Africa</td>\n",
       "      <td>Botswana</td>\n",
       "      <td>37943</td>\n",
       "      <td>506</td>\n",
       "      <td>2934</td>\n",
       "    </tr>\n",
       "    <tr>\n",
       "      <th>4</th>\n",
       "      <td>Africa</td>\n",
       "      <td>Burkina_Faso</td>\n",
       "      <td>12692</td>\n",
       "      <td>145</td>\n",
       "      <td>314</td>\n",
       "    </tr>\n",
       "  </tbody>\n",
       "</table>\n",
       "</div>"
      ],
      "text/plain": [
       "   Region       Country  Sum of Cases  Sum of Deaths  \\\n",
       "0  Africa       Algeria        116946           3084   \n",
       "1  Africa        Angola         22063            533   \n",
       "2  Africa         Benin          7100             90   \n",
       "3  Africa      Botswana         37943            506   \n",
       "4  Africa  Burkina_Faso         12692            145   \n",
       "\n",
       "   Confirmed cases during 14-days period  \n",
       "0                                   1681  \n",
       "1                                    683  \n",
       "2                                    599  \n",
       "3                                   2934  \n",
       "4                                    314  "
      ]
     },
     "execution_count": 1,
     "metadata": {},
     "output_type": "execute_result"
    }
   ],
   "source": [
    "import matplotlib.pyplot as plt\n",
    "import sys\n",
    "from IPython.display import display, HTML\n",
    "\n",
    "sys.path.append('./src/')\n",
    "\n",
    "from scrapper import WebScrapper\n",
    "\n",
    "# Create class\n",
    "webScrapper = WebScrapper()\n",
    "# Get dataframe that contains dataset\n",
    "df = webScrapper.get_data()\n",
    "df[\"Sum of Cases\"] = df[\"Sum of Cases\"].astype(str).astype(int)\n",
    "df[\"Sum of Deaths\"] = df[\"Sum of Deaths\"].astype(str).astype(int)\n",
    "df[\"Confirmed cases during 14-days period\"] = df[\"Confirmed cases during 14-days period\"].astype(str).astype(int)\n",
    "# Show first rows\n",
    "df.head()"
   ]
  },
  {
   "cell_type": "markdown",
   "metadata": {},
   "source": [
    "Com podem veure, hem mostrat les primeres files amb la informació que conté el dataset per tal de veure les dades que s'estan guardant. A continuació realitzarem una visualització amb gràfics per tal d'entendre millor els valors de les dades."
   ]
  },
  {
   "cell_type": "code",
   "execution_count": 7,
   "metadata": {},
   "outputs": [
    {
     "data": {
      "image/png": "[encoded data removed]",
      "text/plain": [
       "<Figure size 1800x720 with 2 Axes>"
      ]
     },
     "metadata": {
      "needs_background": "light"
     },
     "output_type": "display_data"
    }
   ],
   "source": [
    "import pandas as pd\n",
    "dd = pd.DataFrame({'Confirmed Cases': df.groupby('Region')[\"Sum of Cases\"].sum(), \n",
    "                   'Confirmed Cases 14-day': df.groupby('Region')[\"Confirmed cases during 14-days period\"].sum()})\n",
    "fig = plt.figure(figsize=(25,10)) \n",
    "ax = fig.add_subplot(121)\n",
    "ax1 = fig.add_subplot(122)\n",
    "dd.plot.bar(stacked=True, ax = ax, title= 'Confirmed Total Cases vs 14-day Confirmed Cases')\n",
    "df.groupby('Region')[\"Sum of Deaths\"].sum().plot.bar(ax = ax1, color = 'red', title= 'Total Deaths by Region (log scale)', log=True)\n",
    "plt.show()"
   ]
  },
  {
   "cell_type": "markdown",
   "metadata": {},
   "source": [
    "Partint de les dades que tenim, hem generat dos gràfics per visualitzar una mica millor les dades. En el primer podem veure com es mostra el total de casos confirmats per regió juntament amb els casos confirmats per regió en els últims 14 dies. D'aquesta forma tenim una visualització de com és l'augment dels casos dels últims 14 dies respecte al total de casos confirmats.\n",
    "L'altre gràfic creat ens mostra una representació de les morts confirmades en cada regió. D'aquesta forma, utilitzant els dos gràfics, podem extreure informació sobre cada regió i la seva situació."
   ]
  },
  {
   "cell_type": "markdown",
   "metadata": {},
   "source": [
    "## Contingut.\n",
    "\n",
    "Dintre del dataset tenim els següents camps:\n",
    "\n",
    "* <b>Region</b>: indica la regió a la qual pertany l'element, en aquest cas, el país.\n",
    "* <b>Country</b>: nom del país.\n",
    "* <b>Sum of Cases</b>: el nombre total de casos confirmats de Covid-19 en el país.\n",
    "* <b>Sum of Deaths</b>: el nombre total de morts provocades pel Covid-19 en el país.\n",
    "* <b>Confirmed cases during 14-days period</b>: el nombre total de casos confirmats de Covid-19 en el país en els últims 14 dies.\n",
    "\n",
    "Cada setmana, entre dilluns i dimecres, un equip d’epidemiòlegs analitza fins a 500 fonts rellevants per recollir les darreres xifres sobre el nombre de casos i defuncions de COVID-19 que es publicaran dijous a tot el món. El seguiment de les dades és seguit del procés d’intel·ligència epidèmica estàndard d’ECDC per al qual cada entrada de dades es valida i es documenta en una base de dades ECDC. Un extracte d’aquesta base de dades, completat amb xifres i visualitzacions de dades actualitzades, es comparteix al lloc web de l’ECDC per garantir un màxim nivell de transparència.\n",
    "\n",
    "Per tal d'extreure les dades hem hagut d'analitzar el lloc web per trobar els elements necessaris per obtenir les dades. Partint d'aquest punt, vam inspeccionar el lloc web i vam buscar la taula amb les dades dintre dels elements HTML del lloc. Un cop ja tenim l'identificador de la taula i l'estructura que té, utilitzant la llibreria BeautifulSoup, vam obtenir la taula i vam fer una cerca per cada un dels elements que conté la taula, en aquest cas cada una de les files que conté la taula. Finalment per a cada fila vam obtenir els diferents camps explicats anteriorment i vam guardar la informació.\n",
    "\n",
    "\n",
    "## Agraïments.\n",
    "\n",
    "Les dades s'han recopilat de la plana web [European Centre for Disease Prevention and Control](https://www.ecdc.europa.eu/). S'ha utilitzat el llenguatge python i s'han aplicat tècniques de **web scraping** per a extreure les dades guardades en fitxers *HTML*.\n",
    "\n",
    "## Inspiració.\n",
    "\n",
    "Amb aquest conjunt de dades podem respondre preguntes relacionades amb l'evolució de la pandemia a nivell global. Podem veure en cada període de catorze dies quants casos hi han hagut i comparar-los amb les dades anteriors per veure quina és la tendencia. Un possible ús seria l'evaluació de les mesures preventives contra l'expansió del virus. Si amb certes mesures es veu una reducció consistent, podem preveure l'estat de la pandemia en el futur i per tant planificar modificacions en les mesures establertes. Es necessita temps per tal de poder coordinar a tots els implicats en aquests procediments, hi intervenen molts factors i l'organització és complexa. Les dades permeten planificar amb criteri i executar els plans de manera efectiva.\n",
    "\n",
    "Permet elaborar un informe quinzenal de l'estat de la pandemia en tots els països. Això ajudaria a països que no tinguin una evolució favorable demanar ajuda per implementar mesures més efectives que estiguin funcionant en altres llocs.\n",
    "\n",
    "\n",
    "## Llicència.\n",
    "\n",
    "Dades publicades sota la llicència **CC BY-SA 4.0 ES** amb la qual qui utilitzi aquestes dades és lliure de:\n",
    "\n",
    "- Compartir: copiar i redistribuir el material en qualsevol mitjà o format.\n",
    "- Adaptar: Transformar i crear a partir del material original per a qualsevol finalitat.\n",
    "\n",
    "Sota les condicions següents:\n",
    "\n",
    "- Reconeixement: S'ha de reconeixer adequadament l'autoria, proporcionar un enllaç a la llicència i indicar si s'han realitzat canvis. Es pot fer de qualsevol manera raonable sempre i quan no es suggereixi que es té cap recolzament per part del llicenciador o que el rep per l'ús que en fa.\n",
    "\n",
    "- CompartirIgual: Si ho modifica o transforma o crea a partir del material, ha de difondre les seves contribucions sota la mateixa llicència que l'original.\n",
    "\n",
    "- No hi ha restriccions adicionals. No es pot aplicar cap terme legal o mesures tecnològiques que legalment restringeixin realitzar allò que la llicència permet.\n",
    "\n",
    "## Contribucions al treball.\n",
    "\n",
    "| Contribucions | Accuracy |\n",
    "| --- | --- |\n",
    "| Recerca prèvia | M.R./ M.F. |\n",
    "| Redacció de les respostes | M.R./ M.F. |\n",
    "| Desenvolupament codi  | M.R./ M.F. |"
   ]
  }
 ],
 "metadata": {
  "kernelspec": {
   "display_name": "Python 3",
   "language": "python",
   "name": "python3"
  },
  "language_info": {
   "codemirror_mode": {
    "name": "ipython",
    "version": 3
   },
   "file_extension": ".py",
   "mimetype": "text/x-python",
   "name": "python",
   "nbconvert_exporter": "python",
   "pygments_lexer": "ipython3",
   "version": "3.8.5"
  }
 },
 "nbformat": 4,
 "nbformat_minor": 4
}
